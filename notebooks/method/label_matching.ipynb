{
 "cells": [
  {
   "cell_type": "code",
   "execution_count": 1,
   "id": "762d17f9-a99a-45bb-84b5-509f994066d4",
   "metadata": {},
   "outputs": [],
   "source": [
    "import json\n",
    "\n",
    "import rclpy\n",
    "from rclpy.node import Node\n",
    "\n",
    "from nimbro_utils.imports_lazy import start_and_spin_node\n",
    "from vlm_gist.imports_lazy import LabelMatching"
   ]
  },
  {
   "cell_type": "code",
   "execution_count": 2,
   "id": "8aa76350-96ab-44b3-a93b-81c64b8711df",
   "metadata": {},
   "outputs": [],
   "source": [
    "class LabelMatchingNode(Node):\n",
    "    def __init__(self, context=None):\n",
    "        super().__init__(\"label_matching_node\", context=context)\n",
    "        self.label_matching = LabelMatching(self, parallel_completions=None, logger_severity=20)"
   ]
  },
  {
   "cell_type": "code",
   "execution_count": 3,
   "id": "1ae77673-0aaf-41e5-82ea-4c26f92e62b2",
   "metadata": {
    "scrolled": true
   },
   "outputs": [],
   "source": [
    "node, executor, context, thread = start_and_spin_node(LabelMatchingNode, blocking=False)"
   ]
  },
  {
   "cell_type": "code",
   "execution_count": 4,
   "id": "0775e8e7-5af8-4cc8-b051-a3ab70fce0d6",
   "metadata": {
    "scrolled": true
   },
   "outputs": [
    {
     "name": "stdout",
     "output_type": "stream",
     "text": [
      "\u001b[0m2025-09-04 16:34:44.907 [INFO] [label_matching_node.label_matching]: Matching '2' sets with a total of '6' labels to '357' matching targets\u001b[0m\n",
      "\u001b[0m2025-09-04 16:34:44.939 [INFO] [label_matching_node.label_matching]: Reading definitions file '/home/paetzoldb0/ws/jazzy/main/src/vlm_gist/data/definitions.json'\u001b[0m\n",
      "\u001b[0m2025-09-04 16:34:45.819 [INFO] [label_matching_node.label_matching]: Found all required definitions in cache\u001b[0m\n",
      "\u001b[0m2025-09-04 16:34:45.825 [INFO] [label_matching_node.label_matching]: Obtaining '728' text embeddings\u001b[0m\n",
      "\u001b[0m2025-09-04 16:34:46.373 [INFO] [label_matching_node.label_matching]: Matching label set '1' of '2' with '4' labels to '357' targets\u001b[0m\n",
      "\u001b[0m2025-09-04 16:34:46.746 [INFO] [label_matching_node.label_matching]: Matching label set '2' of '2' with '2' labels to '357' targets\u001b[0m\n",
      "\u001b[0m2025-09-04 16:34:47.965 [INFO] [label_matching_node.label_matching]: Successfully matched '2' sets with a total of '6' labels to '357' matching targets\u001b[0m\n"
     ]
    }
   ],
   "source": [
    "success, message, results, metadata = node.label_matching.get(\n",
    "    labels=[[\"A ripe banana\", \"GREEn car\", \"FRUIT\", \"Musician playing a guitar\"], [\"green apple\", \"orange orange\"]],\n",
    "    descriptions=[[\"it is not yet ripe\", None, None, None], [None, \"it is very orange\"]],\n",
    "    # identifiers=[\"0000.png\", \"0001.png\"],\n",
    "    # dataset_targets=[[\"fruit\", \"auto\", \"computer\"],[\"fruit\", \"computer\", \"vegetable\"]],\n",
    "    # augmented_targets=[\"test\"]\n",
    ")"
   ]
  },
  {
   "cell_type": "code",
   "execution_count": 5,
   "id": "36c901e3-93d6-4fa5-9d1e-dffc21873a7f",
   "metadata": {},
   "outputs": [
    {
     "data": {
      "text/plain": [
       "[['banana', 'car', None, None], ['apple', 'orange']]"
      ]
     },
     "execution_count": 5,
     "metadata": {},
     "output_type": "execute_result"
    }
   ],
   "source": [
    "results"
   ]
  },
  {
   "cell_type": "code",
   "execution_count": 6,
   "id": "a805fa4d-e1f0-4356-8c0d-9e0be7b19fd9",
   "metadata": {
    "scrolled": true
   },
   "outputs": [],
   "source": [
    "node.label_matching.release_completions()"
   ]
  },
  {
   "cell_type": "code",
   "execution_count": 7,
   "id": "676e1f88-d5bc-47b8-b158-da3e3f4dc832",
   "metadata": {},
   "outputs": [],
   "source": [
    "executor.shutdown()\n",
    "node.destroy_node()\n",
    "context.shutdown()\n",
    "del executor, node, context, thread"
   ]
  },
  {
   "cell_type": "code",
   "execution_count": null,
   "id": "5c862415-3d36-4f5b-95ea-3ccf154725b6",
   "metadata": {},
   "outputs": [],
   "source": []
  }
 ],
 "metadata": {
  "kernelspec": {
   "display_name": "Python 3 (ipykernel)",
   "language": "python",
   "name": "python3"
  },
  "language_info": {
   "codemirror_mode": {
    "name": "ipython",
    "version": 3
   },
   "file_extension": ".py",
   "mimetype": "text/x-python",
   "name": "python",
   "nbconvert_exporter": "python",
   "pygments_lexer": "ipython3",
   "version": "3.12.3"
  }
 },
 "nbformat": 4,
 "nbformat_minor": 5
}
