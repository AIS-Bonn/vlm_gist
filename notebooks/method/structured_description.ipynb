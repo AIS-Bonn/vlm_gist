{
 "cells": [
  {
   "cell_type": "code",
   "execution_count": 1,
   "id": "762d17f9-a99a-45bb-84b5-509f994066d4",
   "metadata": {},
   "outputs": [],
   "source": [
    "import json\n",
    "\n",
    "import rclpy\n",
    "from rclpy.node import Node\n",
    "\n",
    "from nimbro_utils.imports_lazy import start_and_spin_node\n",
    "from vlm_gist.imports_lazy import StructuredDescription, test_image_path"
   ]
  },
  {
   "cell_type": "code",
   "execution_count": 2,
   "id": "8aa76350-96ab-44b3-a93b-81c64b8711df",
   "metadata": {},
   "outputs": [],
   "source": [
    "class StructuredDescriptionNode(Node):\n",
    "    def __init__(self, context=None):\n",
    "        super().__init__(\"structured_description_node\", context=context)\n",
    "        self.structured_description = StructuredDescription(self, parallel_completions=None, logger_severity=20)"
   ]
  },
  {
   "cell_type": "code",
   "execution_count": 3,
   "id": "1ae77673-0aaf-41e5-82ea-4c26f92e62b2",
   "metadata": {
    "scrolled": true
   },
   "outputs": [],
   "source": [
    "node, executor, context, thread = start_and_spin_node(StructuredDescriptionNode, blocking=False)"
   ]
  },
  {
   "cell_type": "code",
   "execution_count": 4,
   "id": "0775e8e7-5af8-4cc8-b051-a3ab70fce0d6",
   "metadata": {
    "scrolled": true
   },
   "outputs": [
    {
     "name": "stdout",
     "output_type": "stream",
     "text": [
      "\u001b[0m2025-09-04 16:30:12.162 [INFO] [structured_description_node.structured_description]: Generating '1' structured description\u001b[0m\n",
      "\u001b[0m2025-09-04 16:30:12.189 [INFO] [structured_description_node.structured_description]: Progress: {'UNPROCESSED': 1, 'TOTAL': 1} after 0.5s\u001b[0m\n",
      "\u001b[0m2025-09-04 16:30:13.368 [INFO] [structured_description_node.structured_description]: Progress: {'GENERATING_STRUCTURED_DESCRIPTION': 1, 'TOTAL': 1} after 1.6s\u001b[0m\n",
      "\u001b[0m2025-09-04 16:30:14.403 [INFO] [structured_description_node.structured_description]: Progress: {'GENERATING_STRUCTURED_DESCRIPTION': 1, 'TOTAL': 1} after 2.6s\u001b[0m\n",
      "\u001b[0m2025-09-04 16:30:15.448 [INFO] [structured_description_node.structured_description]: Progress: {'GENERATING_STRUCTURED_DESCRIPTION': 1, 'TOTAL': 1} after 3.6s\u001b[0m\n",
      "\u001b[0m2025-09-04 16:30:16.456 [INFO] [structured_description_node.structured_description]: Progress: {'GENERATING_STRUCTURED_DESCRIPTION': 1, 'TOTAL': 1} after 4.6s\u001b[0m\n",
      "\u001b[0m2025-09-04 16:30:17.481 [INFO] [structured_description_node.structured_description]: Progress: {'GENERATING_STRUCTURED_DESCRIPTION': 1, 'TOTAL': 1} after 5.6s\u001b[0m\n",
      "\u001b[0m2025-09-04 16:30:18.562 [INFO] [structured_description_node.structured_description]: Progress: {'GENERATING_STRUCTURED_DESCRIPTION': 1, 'TOTAL': 1} after 6.6s\u001b[0m\n",
      "\u001b[0m2025-09-04 16:30:18.521 [INFO] [structured_description_node.structured_description]: Structured description of '/home/paetzoldb0/ws/jazzy/main/src/vlm_gist/data/descriptions/description_edits/2025_09_04_16_30_11_507.png' after '7.0s':\n",
      "[\n",
      "    {\n",
      "        \"object_name\": \"desk\",\n",
      "        \"description\": \"a light brown wooden desk with drawers\"\n",
      "    },\n",
      "    {\n",
      "        \"object_name\": \"water bottle\",\n",
      "        \"description\": \"a black water bottle sitting on the desk\"\n",
      "    },\n",
      "    {\n",
      "        \"object_name\": \"chair 1\",\n",
      "        \"description\": \"a blue office chair with wheels\"\n",
      "    },\n",
      "    {\n",
      "        \"object_name\": \"chair 2\",\n",
      "        \"description\": \"a wooden chair with a blue cushion\"\n",
      "    },\n",
      "    {\n",
      "        \"object_name\": \"monitor 1\",\n",
      "        \"description\": \"a black computer monitor with a dark screen\"\n",
      "    },\n",
      "    {\n",
      "        \"object_name\": \"monitor 2\",\n",
      "        \"description\": \"a second black computer monitor next to the first\"\n",
      "    },\n",
      "    {\n",
      "        \"object_name\": \"headphones\",\n",
      "        \"description\": \"black over ear headphones with a tangled cord\"\n",
      "    },\n",
      "    {\n",
      "        \"object_name\": \"notebook\",\n",
      "        \"description\": \"a white spiral bound notebook with a pen\"\n",
      "    },\n",
      "    {\n",
      "        \"object_name\": \"keyboard\",\n",
      "        \"description\": \"a black computer keyboard on the desk\"\n",
      "    },\n",
      "    {\n",
      "        \"object_name\": \"calculator\",\n",
      "        \"description\": \"a gray calculator with many buttons\"\n",
      "    },\n",
      "    {\n",
      "        \"object_name\": \"wallet\",\n",
      "        \"description\": \"a black wallet placed on the desk\"\n",
      "    },\n",
      "    {\n",
      "        \"object_name\": \"pens\",\n",
      "        \"description\": \"two black and silver pens in a holder\"\n",
      "    },\n",
      "    {\n",
      "        \"object_name\": \"laptop\",\n",
      "        \"description\": \"a black open laptop with a dark screen\"\n",
      "    },\n",
      "    {\n",
      "        \"object_name\": \"mouse\",\n",
      "        \"description\": \"a black computer mouse on the desk\"\n",
      "    },\n",
      "    {\n",
      "        \"object_name\": \"mug\",\n",
      "        \"description\": \"a white ceramic mug with a small handle\"\n",
      "    },\n",
      "    {\n",
      "        \"object_name\": \"spool\",\n",
      "        \"description\": \"a cardboard spool with white filament\"\n",
      "    }\n",
      "]\u001b[0m\n",
      "\u001b[0m2025-09-04 16:30:18.523 [INFO] [structured_description_node.structured_description]: Progress: {'FINISHED': 1, 'TOTAL': 1} after 7.1s\u001b[0m\n",
      "\u001b[0m2025-09-04 16:30:19.613 [INFO] [structured_description_node.structured_description]: Successfully generated structured description.\u001b[0m\n"
     ]
    }
   ],
   "source": [
    "success, message, description, scene, metadata = node.structured_description.get(\n",
    "    images=test_image_path,\n",
    "    # images=[\"https://upload.wikimedia.org/wikipedia/commons/4/46/Table.JPG\", \"https://upload.wikimedia.org/wikipedia/commons/1/12/Universit%C3%A4t_Bonn.jpg\"]\n",
    ")"
   ]
  },
  {
   "cell_type": "code",
   "execution_count": 5,
   "id": "a805fa4d-e1f0-4356-8c0d-9e0be7b19fd9",
   "metadata": {},
   "outputs": [],
   "source": [
    "node.structured_description.release_completions()"
   ]
  },
  {
   "cell_type": "code",
   "execution_count": 6,
   "id": "7405adb4-324c-48ed-b8be-ab9d94b4a022",
   "metadata": {},
   "outputs": [],
   "source": [
    "executor.shutdown()\n",
    "node.destroy_node()\n",
    "context.shutdown()\n",
    "del executor, node, context, thread"
   ]
  },
  {
   "cell_type": "code",
   "execution_count": null,
   "id": "5c862415-3d36-4f5b-95ea-3ccf154725b6",
   "metadata": {},
   "outputs": [],
   "source": []
  }
 ],
 "metadata": {
  "kernelspec": {
   "display_name": "Python 3 (ipykernel)",
   "language": "python",
   "name": "python3"
  },
  "language_info": {
   "codemirror_mode": {
    "name": "ipython",
    "version": 3
   },
   "file_extension": ".py",
   "mimetype": "text/x-python",
   "name": "python",
   "nbconvert_exporter": "python",
   "pygments_lexer": "ipython3",
   "version": "3.12.3"
  }
 },
 "nbformat": 4,
 "nbformat_minor": 5
}
