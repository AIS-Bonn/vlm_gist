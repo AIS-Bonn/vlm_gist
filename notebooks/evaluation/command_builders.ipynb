{
 "cells": [
  {
   "cell_type": "markdown",
   "id": "48927970-5acd-4577-ad66-1dd79feb70e8",
   "metadata": {},
   "source": [
    "### Command Builders"
   ]
  },
  {
   "cell_type": "code",
   "execution_count": 1,
   "id": "47cac0de-b968-4155-86b1-0ced168224c5",
   "metadata": {},
   "outputs": [],
   "source": [
    "import os"
   ]
  },
  {
   "cell_type": "markdown",
   "id": "7c054f36-14e0-4aac-852f-eb932b56f973",
   "metadata": {},
   "source": [
    "#### Describe"
   ]
  },
  {
   "cell_type": "code",
   "execution_count": 2,
   "id": "ac2a309c-8905-430d-91c5-9e1032e9add9",
   "metadata": {},
   "outputs": [
    {
     "name": "stdout",
     "output_type": "stream",
     "text": [
      "ros2 run vlm_gist fiftyone_describe \"/home/paetzoldb0/ws/jazzy/main/src/vlm_gist/data/datasets/vlm_gist\" \"/home/paetzoldb0/ws/jazzy/main/src/vlm_gist/settings/description/description_settings_gemini_2_5_flash_none.json\" \"/home/paetzoldb0/ws/jazzy/main/src/vlm_gist/data/datasets/coco_500\" \"/home/paetzoldb0/ws/jazzy/main/src/vlm_gist/settings/description/description_settings_gemini_2_5_flash_none.json\"\n"
     ]
    }
   ],
   "source": [
    "# datasets = sorted(os.listdir(\"./../../data/datasets/\"))\n",
    "datasets = [\"./../../data/datasets/vlm_gist\", \"./../../data/datasets/coco_500\"]\n",
    "\n",
    "# settings = sorted(os.listdir(\"./../../settings/description/\"))\n",
    "settings = [\"./../../settings/description/description_settings_gemini_2_5_flash_none.json\"]\n",
    "\n",
    "cmd = \"\"\n",
    "for dataset in datasets:\n",
    "    dataset = os.path.abspath(dataset)\n",
    "    for setting in settings:\n",
    "        setting = os.path.abspath(setting)\n",
    "        cmd += f' \"{dataset}\" \"{setting}\"'\n",
    "cmd = cmd.lstrip()\n",
    "\n",
    "print(\"ros2 run vlm_gist fiftyone_describe\", cmd)"
   ]
  },
  {
   "cell_type": "markdown",
   "id": "89480fb0-7e65-466f-83f3-ab99de1a0a75",
   "metadata": {},
   "source": [
    "#### Detect"
   ]
  },
  {
   "cell_type": "code",
   "execution_count": 3,
   "id": "a30aba70-d602-446d-9483-7db7014f0b46",
   "metadata": {},
   "outputs": [
    {
     "name": "stdout",
     "output_type": "stream",
     "text": [
      "ros2 run vlm_gist fiftyone_detect \"/home/paetzoldb0/ws/jazzy/main/src/vlm_gist/data/fo_2025_09_26_15_53_28_204_describe\" \"/home/paetzoldb0/ws/jazzy/main/src/vlm_gist/settings/detection/detection_settings_mmgd_large.json\" \"/home/paetzoldb0/ws/jazzy/main/src/vlm_gist/data/fo_2025_09_26_16_03_48_615_describe\" \"/home/paetzoldb0/ws/jazzy/main/src/vlm_gist/settings/detection/detection_settings_mmgd_large.json\"\n"
     ]
    }
   ],
   "source": [
    "settings = \"./../../settings/detection/detection_settings_mmgd_large.json\"\n",
    "\n",
    "datasets = [\n",
    "    \"./../../data/fo_2025_09_26_15_53_28_204_describe/\",\n",
    "    \"./../../data/fo_2025_09_26_16_03_48_615_describe/\",\n",
    "]\n",
    "\n",
    "cmd = \"\"\n",
    "for dataset in datasets:\n",
    "   cmd += f' \"{os.path.abspath(dataset)}\" \"{os.path.abspath(settings)}\"'\n",
    "cmd = cmd.lstrip()\n",
    "\n",
    "print(\"ros2 run vlm_gist fiftyone_detect\", cmd)"
   ]
  },
  {
   "cell_type": "markdown",
   "id": "3b132bad-2106-4d7c-b5eb-2a67c594c9f5",
   "metadata": {},
   "source": [
    "#### Validation"
   ]
  },
  {
   "cell_type": "code",
   "execution_count": 4,
   "id": "a391473f-3f68-4cba-bd7c-18c833607479",
   "metadata": {},
   "outputs": [
    {
     "name": "stdout",
     "output_type": "stream",
     "text": [
      "ros2 run vlm_gist fiftyone_validate \"/home/paetzoldb0/ws/jazzy/main/src/vlm_gist/data/fo_2025_09_29_12_22_14_092_detect\" \"/home/paetzoldb0/ws/jazzy/main/src/vlm_gist/settings/label_matching/label_matching_settings_coco.json\" \"/home/paetzoldb0/ws/jazzy/main/src/vlm_gist/data/fo_2025_09_29_16_07_57_218_detect\" \"/home/paetzoldb0/ws/jazzy/main/src/vlm_gist/settings/label_matching/label_matching_settings_coco.json\"\n"
     ]
    }
   ],
   "source": [
    "# settings = \"./../../settings/label_matching/label_matching_settings_per_image.json\"\n",
    "settings = \"./../../settings/label_matching/label_matching_settings_coco.json\"\n",
    "\n",
    "datasets = [\n",
    "    './../../data/fo_2025_09_29_12_22_14_092_detect',\n",
    "    './../../data/fo_2025_09_29_16_07_57_218_detect',\n",
    "]\n",
    "\n",
    "cmd = \"\"\n",
    "for dataset in sorted(datasets):\n",
    "   cmd += f' \"{os.path.abspath(dataset)}\" \"{os.path.abspath(settings)}\"'\n",
    "cmd = cmd.lstrip()\n",
    "print(\"ros2 run vlm_gist fiftyone_validate\", cmd)"
   ]
  },
  {
   "cell_type": "markdown",
   "id": "316b96a0-1384-4c6b-afeb-24e4027505e3",
   "metadata": {},
   "source": [
    "#### Labelmatch"
   ]
  },
  {
   "cell_type": "code",
   "execution_count": 5,
   "id": "f3a03306-ccf7-4286-ae7a-1b8cc2a6777b",
   "metadata": {},
   "outputs": [
    {
     "name": "stdout",
     "output_type": "stream",
     "text": [
      "ros2 run vlm_gist fiftyone_label_match \"/home/paetzoldb0/ws/jazzy/main/src/vlm_gist/data/fo_2025_09_29_12_22_14_092_detect\" \"/home/paetzoldb0/ws/jazzy/main/src/vlm_gist/settings/label_matching/label_matching_settings_coco.json\" \"/home/paetzoldb0/ws/jazzy/main/src/vlm_gist/data/fo_2025_09_29_16_07_57_218_detect\" \"/home/paetzoldb0/ws/jazzy/main/src/vlm_gist/settings/label_matching/label_matching_settings_coco.json\"\n"
     ]
    }
   ],
   "source": [
    "# settings = \"./../../settings/label_matching/label_matching_settings_per_image.json\"\n",
    "settings = \"./../../settings/label_matching/label_matching_settings_coco.json\"\n",
    "\n",
    "datasets = [\n",
    "    './../../data/fo_2025_09_29_12_22_14_092_detect',\n",
    "    './../../data/fo_2025_09_29_16_07_57_218_detect',\n",
    "]\n",
    "\n",
    "cmd = \"\"\n",
    "for dataset in sorted(datasets):\n",
    "   cmd += f' \"{os.path.abspath(dataset)}\" \"{os.path.abspath(settings)}\"'\n",
    "cmd = cmd.lstrip()\n",
    "print(\"ros2 run vlm_gist fiftyone_label_match\", cmd)"
   ]
  },
  {
   "cell_type": "markdown",
   "id": "97a4b03e-5828-4f71-be21-a4c15858a8da",
   "metadata": {},
   "source": [
    "#### Eval"
   ]
  },
  {
   "cell_type": "code",
   "execution_count": 6,
   "id": "b918708f-a727-416b-89e5-e1f882dfca60",
   "metadata": {},
   "outputs": [
    {
     "name": "stdout",
     "output_type": "stream",
     "text": [
      "ros2 run vlm_gist fiftyone_eval \"/home/paetzoldb0/ws/jazzy/main/src/vlm_gist/data/fo_2025_09_29_13_23_14_092_label_match\" \"/home/paetzoldb0/ws/jazzy/main/src/vlm_gist/data/fo_2025_09_29_17_08_57_218_label_match\"\n"
     ]
    }
   ],
   "source": [
    "# datasets = sorted(os.listdir(\"./../../data/datasets/\"))\n",
    "datasets = [\n",
    "    './../../data/fo_2025_09_29_13_23_14_092_label_match',\n",
    "    './../../data/fo_2025_09_29_17_08_57_218_label_match',\n",
    "]\n",
    "\n",
    "cmd = \"\"\n",
    "for dataset in sorted(datasets):\n",
    "   cmd += f' \"{os.path.abspath(dataset)}\"'\n",
    "cmd = cmd.lstrip()\n",
    "print(\"ros2 run vlm_gist fiftyone_eval\", cmd)"
   ]
  },
  {
   "cell_type": "code",
   "execution_count": null,
   "id": "2ebf788f-1e11-4898-bd2e-fdc7844bac28",
   "metadata": {},
   "outputs": [],
   "source": []
  }
 ],
 "metadata": {
  "kernelspec": {
   "display_name": "fo",
   "language": "python",
   "name": "fo"
  },
  "language_info": {
   "codemirror_mode": {
    "name": "ipython",
    "version": 3
   },
   "file_extension": ".py",
   "mimetype": "text/x-python",
   "name": "python",
   "nbconvert_exporter": "python",
   "pygments_lexer": "ipython3",
   "version": "3.12.3"
  }
 },
 "nbformat": 4,
 "nbformat_minor": 5
}
